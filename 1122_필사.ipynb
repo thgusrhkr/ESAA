{
  "nbformat": 4,
  "nbformat_minor": 0,
  "metadata": {
    "colab": {
      "name": "1122_필사.ipynb",
      "provenance": [],
      "collapsed_sections": [],
      "include_colab_link": true
    },
    "kernelspec": {
      "name": "python3",
      "display_name": "Python 3"
    },
    "language_info": {
      "name": "python"
    }
  },
  "cells": [
    {
      "cell_type": "markdown",
      "metadata": {
        "id": "view-in-github",
        "colab_type": "text"
      },
      "source": [
        "<a href=\"https://colab.research.google.com/github/thgusrhkr/ESAA/blob/main/1122_%ED%95%84%EC%82%AC.ipynb\" target=\"_parent\"><img src=\"https://colab.research.google.com/assets/colab-badge.svg\" alt=\"Open In Colab\"/></a>"
      ]
    },
    {
      "cell_type": "markdown",
      "metadata": {
        "id": "oBu7tyJj7kJu"
      },
      "source": [
        "1-a . make_moon ( n_sample=1000, noise=0.4)를 사용해 데이터셋을 생성합니다."
      ]
    },
    {
      "cell_type": "code",
      "metadata": {
        "id": "rVrHJeVb7fxl"
      },
      "source": [
        "from sklearn.datasets import make_moons\n",
        "\n",
        "X,y = make_moons(n_samples=1000, noise=0.4, random_state=42)"
      ],
      "execution_count": 1,
      "outputs": []
    },
    {
      "cell_type": "markdown",
      "metadata": {
        "id": "wIUaA0sy7qYV"
      },
      "source": [
        "1-b. 이를 train_test_split( )을 사용해 훈련 세트와 테스트 세트로 나눕니다.(random_state=42)\n"
      ]
    },
    {
      "cell_type": "code",
      "metadata": {
        "id": "3dixlSJo8GeG"
      },
      "source": [
        "from sklearn.model_selection import train_test_split\n",
        "\n",
        "X_train, X_test, y_train, y_test = train_test_split(X, y, test_size=0.2, random_state=42)"
      ],
      "execution_count": 2,
      "outputs": []
    },
    {
      "cell_type": "markdown",
      "metadata": {
        "id": "pkqqTSQ07ydF"
      },
      "source": [
        "1-c. DecisionTreeClassifier의 최적의 매개변수를 찾기 위해 교차 검증과 함께 그리드 탐색을 수행합니다. (GridSearchCV) \n",
        "\n",
        "힌트 : 여러가지 max_leaf_nodes 값을 시도해보세요! (파이썬 머신러닝 가이드 교재 113, 207p 참고)"
      ]
    },
    {
      "cell_type": "code",
      "metadata": {
        "id": "ks_63ZiW8aZl",
        "colab": {
          "base_uri": "https://localhost:8080/"
        },
        "outputId": "dcf8b7aa-fe8f-4e5b-91a8-7429cb15864a"
      },
      "source": [
        "from sklearn.tree import DecisionTreeClassifier\n",
        "from sklearn.model_selection import GridSearchCV\n",
        "\n",
        "params = {'max_leaf_nodes': list(range(2, 100)), 'min_samples_split': [2, 3, 4]}\n",
        "grid_search_cv = GridSearchCV(DecisionTreeClassifier(random_state=42), params, verbose=1, cv=3)\n",
        "\n",
        "grid_search_cv.fit(X_train, y_train)\n",
        "\n",
        "\n",
        "# params = {'max_leaf_nodes' : list(range(2,100)),'min_samples_split' : [2,3,4]}\n",
        "# grid_search_cv = GridSearchCV(tree_clf,param_grid=params,cv=3,n_jobs=-1,verbose=1)\n",
        "\n"
      ],
      "execution_count": 3,
      "outputs": [
        {
          "output_type": "stream",
          "name": "stdout",
          "text": [
            "Fitting 3 folds for each of 294 candidates, totalling 882 fits\n"
          ]
        },
        {
          "output_type": "execute_result",
          "data": {
            "text/plain": [
              "GridSearchCV(cv=3, estimator=DecisionTreeClassifier(random_state=42),\n",
              "             param_grid={'max_leaf_nodes': [2, 3, 4, 5, 6, 7, 8, 9, 10, 11, 12,\n",
              "                                            13, 14, 15, 16, 17, 18, 19, 20, 21,\n",
              "                                            22, 23, 24, 25, 26, 27, 28, 29, 30,\n",
              "                                            31, ...],\n",
              "                         'min_samples_split': [2, 3, 4]},\n",
              "             verbose=1)"
            ]
          },
          "metadata": {},
          "execution_count": 3
        }
      ]
    },
    {
      "cell_type": "code",
      "metadata": {
        "id": "Qo2DxGy58kTN",
        "colab": {
          "base_uri": "https://localhost:8080/"
        },
        "outputId": "c0307602-d136-4e54-f717-f08363d3d998"
      },
      "source": [
        "grid_search_cv.best_estimator_"
      ],
      "execution_count": 4,
      "outputs": [
        {
          "output_type": "execute_result",
          "data": {
            "text/plain": [
              "DecisionTreeClassifier(max_leaf_nodes=4, random_state=42)"
            ]
          },
          "metadata": {},
          "execution_count": 4
        }
      ]
    },
    {
      "cell_type": "markdown",
      "metadata": {
        "id": "HUiK35IQ9DuW"
      },
      "source": [
        "1-d. 찾은 매개변수를 사용해 전체 훈련 세트에 대해 모델을 훈련시키고 테스트 세트에서 성능(정확도)을 측정합니다. (대략 85~87% 정도 나옵니다.)"
      ]
    },
    {
      "cell_type": "code",
      "metadata": {
        "id": "hqKETaEa85CW",
        "colab": {
          "base_uri": "https://localhost:8080/"
        },
        "outputId": "92ed32bd-33aa-46aa-cde8-8be7e55fcb69"
      },
      "source": [
        "# GridSearchCV는 최적의 모델로 다시 훈련시키기 때문에 별도의 훈련이 필요없습니다.\n",
        "from sklearn.metrics import accuracy_score\n",
        "\n",
        "y_pred = grid_search_cv.predict(X_test)\n",
        "accuracy_score(y_test, y_pred)"
      ],
      "execution_count": 5,
      "outputs": [
        {
          "output_type": "execute_result",
          "data": {
            "text/plain": [
              "0.855"
            ]
          },
          "metadata": {},
          "execution_count": 5
        }
      ]
    }
  ]
}