{
 "cells": [
  {
   "cell_type": "code",
   "execution_count": 10,
   "metadata": {},
   "outputs": [],
   "source": [
    "import numpy as np\n",
    "\n",
    "#원본 행렬 R 생성, 분해 행렬 P와 Q 초기화, 잠재 요인 차원 K는 3으로 설정\n",
    "R= np.array([[4,np.NaN,np.NaN,2,np.NaN],[np.NaN,5,np.NaN,3,1],[np.NaN,np.NaN,3,4,4],[5,2,1,2,np.NaN]])\n",
    "num_users,num_items=R.shape\n",
    "K=3\n",
    "\n",
    "#P와 Q행렬의 크기를 지정하고 정규분포를 가진 임의의 값으로 입력\n",
    "np.random.seed(1)\n",
    "P=np.random.normal(scale=1./K,size=(num_users,K))\n",
    "Q=np.random.normal(scale=1./K,size=(num_users,K))"
   ]
  },
  {
   "cell_type": "code",
   "execution_count": 11,
   "metadata": {},
   "outputs": [],
   "source": [
    "from sklearn.metrics import mean_squared_error\n",
    "\n",
    "def get_rmse(R,P,Q,non_zeros):\n",
    "    error=0\n",
    "    full_pred_matrix=np.dot(P,Q.T)\n",
    "    x_non_zero_ind=[non_zero[0] for non_zero in non_zeros]\n",
    "    y_non_zero_ind=[non_zero[1] for non_zero in non_zeros]\n",
    "    R_non_zeros = R[x_non_zero_ind, y_non_zero_ind]\n",
    "    full_pred_matrix_non_zeros=full_pred_matrix[x_non_zero_ind,y_non_zero_ind]\n",
    "    mse=mean_squared_error(R_non_zeros,full_pred_matrix_non_zeros)\n",
    "    rmse=np.sqrt(mse)\n",
    "    return rmse"
   ]
  },
  {
   "cell_type": "code",
   "execution_count": null,
   "metadata": {},
   "outputs": [],
   "source": [
    "#R>0인 행 위치, 열 위치, 값을 Non_zeros 리스트에 저장\n",
    "non_zeros=[(i,j,R[i,j]) for i in range(num_users) for j in range(num_items) if R[i,j]>0]\n",
    "steps=1000\n",
    "learning_rate=0.01\n",
    "r_lambda=0.01\n",
    "\n",
    "for step in range(steps):\n",
    "    for i,j,r in non_zeros:\n",
    "        eij= r - np.dot(P[i,:],Q[j,:].T)\n",
    "        P[i,:]=P[i,:]+learning_rate*(eij*Q[j,:]-r_lambda*P[i,:])\n",
    "        Q[j,:]=Q[j,:]+learning_rate*(eij*P[i,:]-r_lambda*Q[j,:])\n",
    "    rmse=get_rmse(R,P,Q,non_zeros)\n",
    "    if(step%50)==0:\n",
    "        print(\"### iteration step:\",step,'rmse:',rmse)"
   ]
  },
  {
   "cell_type": "code",
   "execution_count": 14,
   "metadata": {},
   "outputs": [
    {
     "name": "stdout",
     "output_type": "stream",
     "text": [
      "예측행렬:/n [[-0.056 -0.163  0.019  0.128]\n",
      " [-0.308  0.426  0.342 -0.133]\n",
      " [ 0.039 -0.265 -0.08   0.153]\n",
      " [-0.316  0.269  0.345  0.043]]\n"
     ]
    }
   ],
   "source": [
    "pred_matrix=np.dot(P,Q.T)\n",
    "print('예측행렬:/n', np.round(pred_matrix,3))"
   ]
  }
 ],
 "metadata": {
  "kernelspec": {
   "display_name": "Python 3",
   "language": "python",
   "name": "python3"
  },
  "language_info": {
   "codemirror_mode": {
    "name": "ipython",
    "version": 3
   },
   "file_extension": ".py",
   "mimetype": "text/x-python",
   "name": "python",
   "nbconvert_exporter": "python",
   "pygments_lexer": "ipython3",
   "version": "3.8.5"
  }
 },
 "nbformat": 4,
 "nbformat_minor": 4
}
